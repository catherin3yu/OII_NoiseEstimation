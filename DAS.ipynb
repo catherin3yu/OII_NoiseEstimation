{
 "cells": [
  {
   "cell_type": "markdown",
   "metadata": {},
   "source": [
    "# Difference of estimated noise in #happy and #sad images\n",
    "\n",
    "The measurement of noise follows the paper Fast Noise Variance Estimation by JohnImmerkær: https://www.sciencedirect.com/science/article/pii/S1077314296900600\n",
    "\n",
    "It is a fast and simple method for estimating the variance of additive zero mean Gaussian noise in an image. The method can also be used to give a local estimate of the noise variance in the situation in which the noise variance varies across the image. It requires only the use of a 3 􏱗 3 mask followed by a summation over the image or a local neighborhood. A total of 14 integer operations per pixel is necessary. The method performs well for a large range of noise variance values. In textured images or regions, though, the noise estimator perceives thin lines as noise.\n",
    "\n",
    "The proposed method uses a zero mean operator, which is almost insensitive to image structure. The variance of the output from the operator is an estimate of the noise variance. "
   ]
  },
  {
   "cell_type": "code",
   "execution_count": 1,
   "metadata": {},
   "outputs": [],
   "source": [
    "import os\n",
    "import numpy as np\n",
    "import matplotlib.pyplot as plt\n",
    "import matplotlib.image as mpimg\n",
    "from numpy.lib.stride_tricks import as_strided\n",
    "\n",
    "# from scipy.signal import convolve2d #\n",
    "%load_ext memory_profiler\n",
    "%load_ext line_profiler"
   ]
  },
  {
   "cell_type": "markdown",
   "metadata": {},
   "source": [
    "## Prepare the image files\n",
    "- The images are obtained using Instagram Scraper, a command-line application written in Python that scrapes and downloads an instagram user's photos and videos https://github.com/rarcega/instagram-scraper. \n",
    "```c\n",
    "pip install instagram-scraper\n",
    "instagram-scraper happy --tag -t image -m 1000 -u <username> -p <login password>\n",
    "```\n",
    "\n",
    "- Read each .jpg file into a test file "
   ]
  },
  {
   "cell_type": "code",
   "execution_count": 2,
   "metadata": {},
   "outputs": [],
   "source": [
    "with open(\"sad_images.txt\", \"w\") as a:\n",
    "    for path, subdirs, files in os.walk(r'/Users/ceolwaerc/Dropbox/DAS_project/sad'):\n",
    "        for filename in files:\n",
    "            f = os.path.join(path, filename)\n",
    "            a.write(str(f) + os.linesep)\n",
    "            \n",
    "with open(\"happy_images.txt\", \"w\") as a:\n",
    "    for path, subdirs, files in os.walk(r'/Users/ceolwaerc/Dropbox/DAS_project/happy'):\n",
    "        for filename in files:\n",
    "            f = os.path.join(path, filename)\n",
    "            a.write(str(f) + os.linesep)"
   ]
  },
  {
   "cell_type": "code",
   "execution_count": 2,
   "metadata": {},
   "outputs": [],
   "source": [
    "# Open the file of file names and put it in a list\n",
    "\n",
    "with open('sad_images.txt', 'r') as f:\n",
    "    sad_list = f.readlines()\n",
    "sad_list = [x.strip('\\n') for x in sad_list] \n",
    "\n",
    "with open('happy_images.txt', 'r') as f:\n",
    "    happy_list = f.readlines()\n",
    "happy_list = [x.strip('\\n') for x in happy_list] "
   ]
  },
  {
   "cell_type": "markdown",
   "metadata": {},
   "source": [
    "## Numpy"
   ]
  },
  {
   "cell_type": "code",
   "execution_count": 3,
   "metadata": {},
   "outputs": [],
   "source": [
    "def greyscale(i):\n",
    "    '''\n",
    "    This function turns an image to greyscale\n",
    "    '''\n",
    "    img = mpimg.imread(i)\n",
    "    r, g, b = img[:,:,0], img[:,:,1], img[:,:,2]\n",
    "    img_grey = 0.2989 * r + 0.5870 * g + 0.1140 * b\n",
    "    return img_grey"
   ]
  },
  {
   "cell_type": "code",
   "execution_count": 4,
   "metadata": {},
   "outputs": [
    {
     "data": {
      "text/plain": [
       "array([2.14682709])"
      ]
     },
     "execution_count": 4,
     "metadata": {},
     "output_type": "execute_result"
    }
   ],
   "source": [
    "def estimate_noise_np1(img_list, limit=1):\n",
    "    '''\n",
    "    This function estimate the local variance of a list of images\n",
    "    '''\n",
    "    result = np.array([])\n",
    "#     img_list = random.shuffle(img_list)\n",
    "    for i in img_list[0:limit]:\n",
    "        img_grey= greyscale(i)\n",
    "        h, w = img_grey.shape\n",
    "#         matrix = np.zeros((h+4, w+4))\n",
    "#         matrix[2:-2, 2:-2] = img_grey\n",
    "        img_grey = np.c_[np.zeros(h), np.zeros(h), img_grey, np.zeros(h), np.zeros(h)] \n",
    "        img_grey = np.vstack((np.zeros(w+4), np.zeros(w+4),img_grey, np.zeros(w+4), np.zeros(w+4)))\n",
    "\n",
    "        N = np.array([[1, -2, 1],\n",
    "                          [-2, 4, -2],\n",
    "                          [1, -2, 1]])\n",
    "        sigma = 0\n",
    "        for i in range(1, h+3):\n",
    "            for j in range(1, w+3):\n",
    "                cell = np.array([img_grey[i-1:i+2, j-1:j+2]])\n",
    "                cell = np.squeeze(cell, axis=0)\n",
    "                sigma += abs(np.einsum(\"ij,ij\",N,cell))\n",
    "        sigma = sigma * np.sqrt(0.5 * np.pi) / (6 * (w-2) * (h-2))\n",
    "        result = np.append(result, sigma)\n",
    "\n",
    "    return result\n",
    "estimate_noise_np1(sad_list, 1)"
   ]
  },
  {
   "cell_type": "code",
   "execution_count": 8,
   "metadata": {},
   "outputs": [],
   "source": [
    "%timeit estimate_noise_np1(sad_list,1)\n",
    "%timeit estimate_noise_np1(sad_list,5)\n",
    "%timeit estimate_noise_np1(sad_list,10)\n",
    "%timeit estimate_noise_np1(sad_list,20)"
   ]
  },
  {
   "cell_type": "code",
   "execution_count": 9,
   "metadata": {},
   "outputs": [
    {
     "name": "stdout",
     "output_type": "stream",
     "text": [
      "peak memory: 149.70 MiB, increment: 52.09 MiB\n"
     ]
    }
   ],
   "source": [
    "%memit estimate_noise_np1(sad_list,5)"
   ]
  },
  {
   "cell_type": "markdown",
   "metadata": {},
   "source": [
    "#### The time it takes to find sigma seems to be proportional to the number of inputs when n is small. However, there are three for loops so when n becomes larger, n^3 will become dominant and greatly increase the time taken. For just 20 images, it already takes 2 minutes to run so we need to seek for an alternative way of doing convolution."
   ]
  },
  {
   "cell_type": "code",
   "execution_count": 23,
   "metadata": {},
   "outputs": [
    {
     "data": {
      "text/plain": [
       "Timer unit: 1e-06 s\n",
       "\n",
       "Total time: 5.10089 s\n",
       "File: <ipython-input-18-b1c2f3b03fa0>\n",
       "Function: estimate_noise_np1 at line 1\n",
       "\n",
       "Line #      Hits         Time  Per Hit   % Time  Line Contents\n",
       "==============================================================\n",
       "     1                                           def estimate_noise_np1(img_list, limit=1):\n",
       "     2                                               '''\n",
       "     3                                               This function estimate the local variance of a list of images\n",
       "     4                                               '''\n",
       "     5         1          3.0      3.0      0.0      result = []\n",
       "     6                                           #     img_list = random.shuffle(img_list)\n",
       "     7         2          3.0      1.5      0.0      for i in img_list[0:limit]:\n",
       "     8         1      26229.0  26229.0      0.5          img=mpimg.imread(i)\n",
       "     9         1       8554.0   8554.0      0.2          img_grey = greyscale(img)\n",
       "    10         1          7.0      7.0      0.0          h, w = img_grey.shape\n",
       "    11                                           #         matrix = np.zeros((h+4, w+4))\n",
       "    12                                           #         matrix[2:-2, 2:-2] = img_grey\n",
       "    13         1       1362.0   1362.0      0.0          img_grey = np.c_[np.zeros(h), np.zeros(h), img_grey, np.zeros(h), np.zeros(h)] \n",
       "    14         1        810.0    810.0      0.0          img_grey = np.vstack((np.zeros(w+4), np.zeros(w+4),img_grey, np.zeros(w+4), np.zeros(w+4)))\n",
       "    15                                           \n",
       "    16         1          4.0      4.0      0.0          N = np.array([[1, -2, 1],\n",
       "    17         1          1.0      1.0      0.0                            [-2, 4, -2],\n",
       "    18         1         17.0     17.0      0.0                            [1, -2, 1]])\n",
       "    19                                           \n",
       "    20                                           #         sigma = np.zeros(img_grey.shape)\n",
       "    21         1          1.0      1.0      0.0          sigma = 0\n",
       "    22       624        364.0      0.6      0.0          for i in range(1, h+3):\n",
       "    23    338289     240542.0      0.7      4.7              for j in range(1, w+3):\n",
       "    24    337666    1457320.0      4.3     28.6                  cell = np.array([img_grey[i-1:i+2, j-1:j+2]])\n",
       "    25    337666     831254.0      2.5     16.3                  cell = np.squeeze(cell, axis=0)\n",
       "    26    337666    2534407.0      7.5     49.7                  sigma += abs(np.einsum(\"ij,ij\",N,cell))\n",
       "    27         1         12.0     12.0      0.0          sigma = sigma * np.sqrt(0.5 * np.pi) / (6 * (w-2) * (h-2))\n",
       "    28         1          1.0      1.0      0.0          result.append(sigma)\n",
       "    29                                           \n",
       "    30         1          0.0      0.0      0.0      return result"
      ]
     },
     "metadata": {},
     "output_type": "display_data"
    }
   ],
   "source": [
    "%lprun -f estimate_noise_np1 estimate_noise_np1(sad_list,1)"
   ]
  },
  {
   "cell_type": "markdown",
   "metadata": {},
   "source": [
    "## Numpy2"
   ]
  },
  {
   "cell_type": "markdown",
   "metadata": {},
   "source": [
    "#### In function estimate_noise_np1, forming the submatrix of 3 by 3 and doing mask operation are taking up 94.6% of time and nested for loops would increase time tremendously. A windowed view using stride_tricks enables the function to access the data of the original array in a different way. \n",
    "Strides are the number of bytes you need to step in each dimension when traversing the array."
   ]
  },
  {
   "cell_type": "code",
   "execution_count": 5,
   "metadata": {},
   "outputs": [],
   "source": [
    "# https://stackoverflow.com/questions/19414673/in-numpy-how-to-efficiently-list-all-fixed-size-submatrices\n",
    "# -  strides explantion: https://docs.scipy.org/doc/numpy-1.15.0/reference/generated/numpy.ndarray.strides.html\n",
    "from numpy.lib.stride_tricks import as_strided\n",
    "def estimate_noise_np2(img_list, limit):\n",
    "    result = np.array([])\n",
    "    for i in img_list[0:limit]:\n",
    "        img=mpimg.imread(i)\n",
    "        img_grey = 0.2989 * img[:,:,0] + 0.5870 * img[:,:,1] + 0.1140 * img[:,:,2]\n",
    "        h, w = img_grey.shape\n",
    "        img_m = np.zeros((h+4, w+4))\n",
    "        img_m[2:-2, 2:-2] = img_grey\n",
    "        N = np.array([[1, -2, 1],\n",
    "                      [-2, 4, -2],\n",
    "                      [1, -2, 1]]).astype(np.int16)\n",
    "#     a = np.c_[np.zeros(h), np.zeros(h), a, np.zeros(h), np.zeros(h)] \n",
    "#     img_grey = np.vstack((np.zeros(w+4), np.zeros(w+4),a, np.zeros(w+4), np.zeros(w+4)))\n",
    "        s = (3,3) + tuple(np.subtract((h+4, w+4), (3,3)) + 1)\n",
    "        strd = np.lib.stride_tricks.as_strided\n",
    "        subM = strd(img_m, shape = s, strides = img_m.strides * 2)\n",
    "        sigma = np.sum(np.absolute(np.einsum('ij,ijkl->kl', N, subM))) * np.sqrt(0.5 * np.pi) / (6 * (w-2) * (h-2))\n",
    "        result = np.append(result, sigma)\n",
    "    return result"
   ]
  },
  {
   "cell_type": "code",
   "execution_count": 50,
   "metadata": {},
   "outputs": [
    {
     "data": {
      "text/plain": [
       "array([2.14682709])"
      ]
     },
     "execution_count": 50,
     "metadata": {},
     "output_type": "execute_result"
    }
   ],
   "source": [
    "estimate_noise_np2(sad_list, 1)"
   ]
  },
  {
   "cell_type": "code",
   "execution_count": 13,
   "metadata": {},
   "outputs": [
    {
     "name": "stdout",
     "output_type": "stream",
     "text": [
      "35.3 ms ± 291 µs per loop (mean ± std. dev. of 7 runs, 10 loops each)\n",
      "798 ms ± 9.77 ms per loop (mean ± std. dev. of 7 runs, 1 loop each)\n",
      "8.37 s ± 317 ms per loop (mean ± std. dev. of 7 runs, 1 loop each)\n"
     ]
    }
   ],
   "source": [
    "%timeit estimate_noise_np2(sad_list, 1)\n",
    "%timeit estimate_noise_np2(sad_list, 10)\n",
    "%timeit estimate_noise_np2(sad_list, 100)"
   ]
  },
  {
   "cell_type": "markdown",
   "metadata": {},
   "source": [
    "#### Time taken still seems to be proportional to the number of images, but it takes much less time to process 10 images, 884ms compared to 60s. "
   ]
  },
  {
   "cell_type": "code",
   "execution_count": 9,
   "metadata": {},
   "outputs": [
    {
     "name": "stdout",
     "output_type": "stream",
     "text": [
      "peak memory: 185.61 MiB, increment: 79.86 MiB\n"
     ]
    }
   ],
   "source": [
    "%memit estimate_noise_np2(sad_list,5)"
   ]
  },
  {
   "cell_type": "code",
   "execution_count": 12,
   "metadata": {},
   "outputs": [
    {
     "data": {
      "text/plain": [
       "Timer unit: 1e-06 s\n",
       "\n",
       "Total time: 0.061608 s\n",
       "File: <ipython-input-10-7ef0d47b3356>\n",
       "Function: estimate_noise_np2 at line 4\n",
       "\n",
       "Line #      Hits         Time  Per Hit   % Time  Line Contents\n",
       "==============================================================\n",
       "     4                                           def estimate_noise_np2(img_list, limit):\n",
       "     5         1          7.0      7.0      0.0      result = []\n",
       "     6         2          8.0      4.0      0.0      for i in img_list[0:limit]:\n",
       "     7         1      30722.0  30722.0     49.9          img=mpimg.imread(i)\n",
       "     8         1       3841.0   3841.0      6.2          img_grey = greyscale(img)\n",
       "     9         1          4.0      4.0      0.0          h, w = img_grey.shape\n",
       "    10         1        285.0    285.0      0.5          img_m = np.zeros((h+4, w+4))\n",
       "    11         1       1477.0   1477.0      2.4          img_m[2:-2, 2:-2] = img_grey\n",
       "    12         1         10.0     10.0      0.0          N = np.array([[1, -2, 1],\n",
       "    13         1          1.0      1.0      0.0                        [-2, 4, -2],\n",
       "    14         1         40.0     40.0      0.1                        [1, -2, 1]]).astype(np.int16)\n",
       "    15                                           #     a = np.c_[np.zeros(h), np.zeros(h), a, np.zeros(h), np.zeros(h)] \n",
       "    16                                           #     img_grey = np.vstack((np.zeros(w+4), np.zeros(w+4),a, np.zeros(w+4), np.zeros(w+4)))\n",
       "    17         1         42.0     42.0      0.1          s = (3,3) + tuple(np.subtract((h+4, w+4), (3,3)) + 1)\n",
       "    18         1          5.0      5.0      0.0          strd = np.lib.stride_tricks.as_strided\n",
       "    19         1        136.0    136.0      0.2          subM = strd(img_m, shape = s, strides = img_m.strides * 2)\n",
       "    20         1      25027.0  25027.0     40.6          sigma = np.sum(np.absolute(np.einsum('ij,ijkl->kl', N, subM))) * np.sqrt(0.5 * np.pi) / (6 * (w-2) * (h-2))\n",
       "    21         1          3.0      3.0      0.0          result.append(sigma)\n",
       "    22         1          0.0      0.0      0.0      return result"
      ]
     },
     "metadata": {},
     "output_type": "display_data"
    }
   ],
   "source": [
    "%lprun -f estimate_noise_np2 estimate_noise_np2(sad_list, 1)"
   ]
  },
  {
   "cell_type": "markdown",
   "metadata": {},
   "source": [
    "## Numba"
   ]
  },
  {
   "cell_type": "code",
   "execution_count": 6,
   "metadata": {},
   "outputs": [],
   "source": [
    "from numba import jit\n",
    "\n",
    "@jit\n",
    "def estimate_noise_nb(img_list, limit):\n",
    "    result = np.array([])\n",
    "    for i in img_list[0:limit]:\n",
    "        img=mpimg.imread(i)\n",
    "        img_grey = 0.2989 * img[:,:,0] + 0.5870 * img[:,:,1] + 0.1140 * img[:,:,2]\n",
    "        h, w = img_grey.shape\n",
    "        img_m = np.zeros((h+4, w+4))\n",
    "        img_m[2:-2, 2:-2] = img_grey\n",
    "        N = np.array([[1, -2, 1],\n",
    "                      [-2, 4, -2],\n",
    "                      [1, -2, 1]]).astype(np.int16)\n",
    "\n",
    "        s = (3,3) + tuple(np.subtract((h+4, w+4), (3,3)) + 1)\n",
    "        strd = np.lib.stride_tricks.as_strided\n",
    "        subM = strd(img_m, shape = s, strides = img_m.strides * 2)\n",
    "        sigma = np.sum(np.absolute(np.einsum('ij,ijkl->kl', N, subM))) * np.sqrt(0.5 * np.pi) / (6 * (w-2) * (h-2))\n",
    "        result = np.append(result, sigma)\n",
    "    return result"
   ]
  },
  {
   "cell_type": "code",
   "execution_count": 41,
   "metadata": {},
   "outputs": [
    {
     "name": "stdout",
     "output_type": "stream",
     "text": [
      "38.6 ms ± 1.06 ms per loop (mean ± std. dev. of 7 runs, 10 loops each)\n"
     ]
    }
   ],
   "source": [
    "%timeit estimate_noise_nb(sad_list,1)"
   ]
  },
  {
   "cell_type": "markdown",
   "metadata": {},
   "source": [
    "## Cython"
   ]
  },
  {
   "cell_type": "code",
   "execution_count": 7,
   "metadata": {},
   "outputs": [],
   "source": [
    "%load_ext cython"
   ]
  },
  {
   "cell_type": "code",
   "execution_count": 7,
   "metadata": {},
   "outputs": [
    {
     "data": {
      "text/plain": [
       "dtype('uint8')"
      ]
     },
     "execution_count": 7,
     "metadata": {},
     "output_type": "execute_result"
    }
   ],
   "source": [
    "img = mpimg.imread(sad_list[0])\n",
    "img.dtype"
   ]
  },
  {
   "cell_type": "code",
   "execution_count": 8,
   "metadata": {},
   "outputs": [
    {
     "name": "stderr",
     "output_type": "stream",
     "text": [
      "warning: /Users/ceolwaerc/.ipython/cython/_cython_magic_ee4345328fd0b283f53787565a4d3c90.pyx:27:23: Index should be typed for more efficient access\n"
     ]
    },
    {
     "ename": "CompileError",
     "evalue": "command 'gcc' failed with exit status 1",
     "output_type": "error",
     "traceback": [
      "\u001b[0;31m---------------------------------------------------------------------------\u001b[0m",
      "\u001b[0;31mDistutilsExecError\u001b[0m                        Traceback (most recent call last)",
      "\u001b[0;32m~/anaconda3/lib/python3.6/distutils/unixccompiler.py\u001b[0m in \u001b[0;36m_compile\u001b[0;34m(self, obj, src, ext, cc_args, extra_postargs, pp_opts)\u001b[0m\n\u001b[1;32m    117\u001b[0m             self.spawn(compiler_so + cc_args + [src, '-o', obj] +\n\u001b[0;32m--> 118\u001b[0;31m                        extra_postargs)\n\u001b[0m\u001b[1;32m    119\u001b[0m         \u001b[0;32mexcept\u001b[0m \u001b[0mDistutilsExecError\u001b[0m \u001b[0;32mas\u001b[0m \u001b[0mmsg\u001b[0m\u001b[0;34m:\u001b[0m\u001b[0;34m\u001b[0m\u001b[0m\n",
      "\u001b[0;32m~/anaconda3/lib/python3.6/distutils/ccompiler.py\u001b[0m in \u001b[0;36mspawn\u001b[0;34m(self, cmd)\u001b[0m\n\u001b[1;32m    908\u001b[0m     \u001b[0;32mdef\u001b[0m \u001b[0mspawn\u001b[0m\u001b[0;34m(\u001b[0m\u001b[0mself\u001b[0m\u001b[0;34m,\u001b[0m \u001b[0mcmd\u001b[0m\u001b[0;34m)\u001b[0m\u001b[0;34m:\u001b[0m\u001b[0;34m\u001b[0m\u001b[0m\n\u001b[0;32m--> 909\u001b[0;31m         \u001b[0mspawn\u001b[0m\u001b[0;34m(\u001b[0m\u001b[0mcmd\u001b[0m\u001b[0;34m,\u001b[0m \u001b[0mdry_run\u001b[0m\u001b[0;34m=\u001b[0m\u001b[0mself\u001b[0m\u001b[0;34m.\u001b[0m\u001b[0mdry_run\u001b[0m\u001b[0;34m)\u001b[0m\u001b[0;34m\u001b[0m\u001b[0m\n\u001b[0m\u001b[1;32m    910\u001b[0m \u001b[0;34m\u001b[0m\u001b[0m\n",
      "\u001b[0;32m~/anaconda3/lib/python3.6/distutils/spawn.py\u001b[0m in \u001b[0;36mspawn\u001b[0;34m(cmd, search_path, verbose, dry_run)\u001b[0m\n\u001b[1;32m     35\u001b[0m     \u001b[0;32mif\u001b[0m \u001b[0mos\u001b[0m\u001b[0;34m.\u001b[0m\u001b[0mname\u001b[0m \u001b[0;34m==\u001b[0m \u001b[0;34m'posix'\u001b[0m\u001b[0;34m:\u001b[0m\u001b[0;34m\u001b[0m\u001b[0m\n\u001b[0;32m---> 36\u001b[0;31m         \u001b[0m_spawn_posix\u001b[0m\u001b[0;34m(\u001b[0m\u001b[0mcmd\u001b[0m\u001b[0;34m,\u001b[0m \u001b[0msearch_path\u001b[0m\u001b[0;34m,\u001b[0m \u001b[0mdry_run\u001b[0m\u001b[0;34m=\u001b[0m\u001b[0mdry_run\u001b[0m\u001b[0;34m)\u001b[0m\u001b[0;34m\u001b[0m\u001b[0m\n\u001b[0m\u001b[1;32m     37\u001b[0m     \u001b[0;32melif\u001b[0m \u001b[0mos\u001b[0m\u001b[0;34m.\u001b[0m\u001b[0mname\u001b[0m \u001b[0;34m==\u001b[0m \u001b[0;34m'nt'\u001b[0m\u001b[0;34m:\u001b[0m\u001b[0;34m\u001b[0m\u001b[0m\n",
      "\u001b[0;32m~/anaconda3/lib/python3.6/distutils/spawn.py\u001b[0m in \u001b[0;36m_spawn_posix\u001b[0;34m(cmd, search_path, verbose, dry_run)\u001b[0m\n\u001b[1;32m    158\u001b[0m                           \u001b[0;34m\"command %r failed with exit status %d\"\u001b[0m\u001b[0;34m\u001b[0m\u001b[0m\n\u001b[0;32m--> 159\u001b[0;31m                           % (cmd, exit_status))\n\u001b[0m\u001b[1;32m    160\u001b[0m             \u001b[0;32melif\u001b[0m \u001b[0mos\u001b[0m\u001b[0;34m.\u001b[0m\u001b[0mWIFSTOPPED\u001b[0m\u001b[0;34m(\u001b[0m\u001b[0mstatus\u001b[0m\u001b[0;34m)\u001b[0m\u001b[0;34m:\u001b[0m\u001b[0;34m\u001b[0m\u001b[0m\n",
      "\u001b[0;31mDistutilsExecError\u001b[0m: command 'gcc' failed with exit status 1",
      "\nDuring handling of the above exception, another exception occurred:\n",
      "\u001b[0;31mCompileError\u001b[0m                              Traceback (most recent call last)",
      "\u001b[0;32m<ipython-input-8-9edb128b3286>\u001b[0m in \u001b[0;36m<module>\u001b[0;34m()\u001b[0m\n\u001b[0;32m----> 1\u001b[0;31m \u001b[0mget_ipython\u001b[0m\u001b[0;34m(\u001b[0m\u001b[0;34m)\u001b[0m\u001b[0;34m.\u001b[0m\u001b[0mrun_cell_magic\u001b[0m\u001b[0;34m(\u001b[0m\u001b[0;34m'cython'\u001b[0m\u001b[0;34m,\u001b[0m \u001b[0;34m''\u001b[0m\u001b[0;34m,\u001b[0m \u001b[0;34m'\\ncimport cython\\ncimport numpy as c_np\\n# from libc.math cimport round,sqrt\\n# from cython.parallel import prange\\n\\n@cython.boundscheck(False)\\n@cython.wraparound(False)\\ndef estimate_noise(float[:,:,:] img):\\n    import numpy as np\\n    cdef int h=img.shape[0]\\n    cdef int w=img.shape[1]\\n    cdef int a,b, k, l\\n    cdef double[:,:] img_grey = np.empty((h,w), dtype=np.double)\\n    cdef double[:,:] img_m = np.empty((h+4,w+4), dtype=np.double)\\n#     cdef double[:] result = np.array([]) \\n    cdef int[3][3] N= [[1, -2, 1],[-2, 4, -2],[1, -2, 1]]\\n    cdef double[:, :, :, :] subM\\n    cdef float s, sigma\\n    \\n    for a in range(h):\\n        for b in range(w):\\n            img_grey[a,b]=0.299*img[a,b,0]+0.587*img[a,b,1]+0.114*img[a,b,2]\\n    img_m[2:-2, 2:-2] = img_grey\\n    for i in range(1,h+3):\\n        for j in range(1, w+3):\\n            s = img_m[i-1,j-1]*1 + img_m[i-1,j]*-2 + img_m[i-1,j+1]*1 + img_m[i,j-1]*-2 + img_m[i,j]*4 + img_m[i,j+1]*-2 + img_m[i+1,j-1]*1 + img_m[i+1,j]*-2 + img_m[i+1,j+1]*1\\n            sigma += abs(s)\\n    return sigma\\n#     return grey'\u001b[0m\u001b[0;34m)\u001b[0m\u001b[0;34m\u001b[0m\u001b[0m\n\u001b[0m",
      "\u001b[0;32m~/anaconda3/lib/python3.6/site-packages/IPython/core/interactiveshell.py\u001b[0m in \u001b[0;36mrun_cell_magic\u001b[0;34m(self, magic_name, line, cell)\u001b[0m\n\u001b[1;32m   2165\u001b[0m             \u001b[0mmagic_arg_s\u001b[0m \u001b[0;34m=\u001b[0m \u001b[0mself\u001b[0m\u001b[0;34m.\u001b[0m\u001b[0mvar_expand\u001b[0m\u001b[0;34m(\u001b[0m\u001b[0mline\u001b[0m\u001b[0;34m,\u001b[0m \u001b[0mstack_depth\u001b[0m\u001b[0;34m)\u001b[0m\u001b[0;34m\u001b[0m\u001b[0m\n\u001b[1;32m   2166\u001b[0m             \u001b[0;32mwith\u001b[0m \u001b[0mself\u001b[0m\u001b[0;34m.\u001b[0m\u001b[0mbuiltin_trap\u001b[0m\u001b[0;34m:\u001b[0m\u001b[0;34m\u001b[0m\u001b[0m\n\u001b[0;32m-> 2167\u001b[0;31m                 \u001b[0mresult\u001b[0m \u001b[0;34m=\u001b[0m \u001b[0mfn\u001b[0m\u001b[0;34m(\u001b[0m\u001b[0mmagic_arg_s\u001b[0m\u001b[0;34m,\u001b[0m \u001b[0mcell\u001b[0m\u001b[0;34m)\u001b[0m\u001b[0;34m\u001b[0m\u001b[0m\n\u001b[0m\u001b[1;32m   2168\u001b[0m             \u001b[0;32mreturn\u001b[0m \u001b[0mresult\u001b[0m\u001b[0;34m\u001b[0m\u001b[0m\n\u001b[1;32m   2169\u001b[0m \u001b[0;34m\u001b[0m\u001b[0m\n",
      "\u001b[0;32m<decorator-gen-130>\u001b[0m in \u001b[0;36mcython\u001b[0;34m(self, line, cell)\u001b[0m\n",
      "\u001b[0;32m~/anaconda3/lib/python3.6/site-packages/IPython/core/magic.py\u001b[0m in \u001b[0;36m<lambda>\u001b[0;34m(f, *a, **k)\u001b[0m\n\u001b[1;32m    185\u001b[0m     \u001b[0;31m# but it's overkill for just that one bit of state.\u001b[0m\u001b[0;34m\u001b[0m\u001b[0;34m\u001b[0m\u001b[0m\n\u001b[1;32m    186\u001b[0m     \u001b[0;32mdef\u001b[0m \u001b[0mmagic_deco\u001b[0m\u001b[0;34m(\u001b[0m\u001b[0marg\u001b[0m\u001b[0;34m)\u001b[0m\u001b[0;34m:\u001b[0m\u001b[0;34m\u001b[0m\u001b[0m\n\u001b[0;32m--> 187\u001b[0;31m         \u001b[0mcall\u001b[0m \u001b[0;34m=\u001b[0m \u001b[0;32mlambda\u001b[0m \u001b[0mf\u001b[0m\u001b[0;34m,\u001b[0m \u001b[0;34m*\u001b[0m\u001b[0ma\u001b[0m\u001b[0;34m,\u001b[0m \u001b[0;34m**\u001b[0m\u001b[0mk\u001b[0m\u001b[0;34m:\u001b[0m \u001b[0mf\u001b[0m\u001b[0;34m(\u001b[0m\u001b[0;34m*\u001b[0m\u001b[0ma\u001b[0m\u001b[0;34m,\u001b[0m \u001b[0;34m**\u001b[0m\u001b[0mk\u001b[0m\u001b[0;34m)\u001b[0m\u001b[0;34m\u001b[0m\u001b[0m\n\u001b[0m\u001b[1;32m    188\u001b[0m \u001b[0;34m\u001b[0m\u001b[0m\n\u001b[1;32m    189\u001b[0m         \u001b[0;32mif\u001b[0m \u001b[0mcallable\u001b[0m\u001b[0;34m(\u001b[0m\u001b[0marg\u001b[0m\u001b[0;34m)\u001b[0m\u001b[0;34m:\u001b[0m\u001b[0;34m\u001b[0m\u001b[0m\n",
      "\u001b[0;32m~/anaconda3/lib/python3.6/site-packages/Cython/Build/IpythonMagic.py\u001b[0m in \u001b[0;36mcython\u001b[0;34m(self, line, cell)\u001b[0m\n\u001b[1;32m    331\u001b[0m \u001b[0;34m\u001b[0m\u001b[0m\n\u001b[1;32m    332\u001b[0m         self._build_extension(extension, lib_dir, pgo_step_name='use' if args.pgo else None,\n\u001b[0;32m--> 333\u001b[0;31m                               quiet=args.quiet)\n\u001b[0m\u001b[1;32m    334\u001b[0m \u001b[0;34m\u001b[0m\u001b[0m\n\u001b[1;32m    335\u001b[0m         \u001b[0mmodule\u001b[0m \u001b[0;34m=\u001b[0m \u001b[0mimp\u001b[0m\u001b[0;34m.\u001b[0m\u001b[0mload_dynamic\u001b[0m\u001b[0;34m(\u001b[0m\u001b[0mmodule_name\u001b[0m\u001b[0;34m,\u001b[0m \u001b[0mmodule_path\u001b[0m\u001b[0;34m)\u001b[0m\u001b[0;34m\u001b[0m\u001b[0m\n",
      "\u001b[0;32m~/anaconda3/lib/python3.6/site-packages/Cython/Build/IpythonMagic.py\u001b[0m in \u001b[0;36m_build_extension\u001b[0;34m(self, extension, lib_dir, temp_dir, pgo_step_name, quiet)\u001b[0m\n\u001b[1;32m    441\u001b[0m             \u001b[0;32mif\u001b[0m \u001b[0;32mnot\u001b[0m \u001b[0mquiet\u001b[0m\u001b[0;34m:\u001b[0m\u001b[0;34m\u001b[0m\u001b[0m\n\u001b[1;32m    442\u001b[0m                 \u001b[0mold_threshold\u001b[0m \u001b[0;34m=\u001b[0m \u001b[0mdistutils\u001b[0m\u001b[0;34m.\u001b[0m\u001b[0mlog\u001b[0m\u001b[0;34m.\u001b[0m\u001b[0mset_threshold\u001b[0m\u001b[0;34m(\u001b[0m\u001b[0mdistutils\u001b[0m\u001b[0;34m.\u001b[0m\u001b[0mlog\u001b[0m\u001b[0;34m.\u001b[0m\u001b[0mDEBUG\u001b[0m\u001b[0;34m)\u001b[0m\u001b[0;34m\u001b[0m\u001b[0m\n\u001b[0;32m--> 443\u001b[0;31m             \u001b[0mbuild_extension\u001b[0m\u001b[0;34m.\u001b[0m\u001b[0mrun\u001b[0m\u001b[0;34m(\u001b[0m\u001b[0;34m)\u001b[0m\u001b[0;34m\u001b[0m\u001b[0m\n\u001b[0m\u001b[1;32m    444\u001b[0m         \u001b[0;32mfinally\u001b[0m\u001b[0;34m:\u001b[0m\u001b[0;34m\u001b[0m\u001b[0m\n\u001b[1;32m    445\u001b[0m             \u001b[0;32mif\u001b[0m \u001b[0;32mnot\u001b[0m \u001b[0mquiet\u001b[0m \u001b[0;32mand\u001b[0m \u001b[0mold_threshold\u001b[0m \u001b[0;32mis\u001b[0m \u001b[0;32mnot\u001b[0m \u001b[0;32mNone\u001b[0m\u001b[0;34m:\u001b[0m\u001b[0;34m\u001b[0m\u001b[0m\n",
      "\u001b[0;32m~/anaconda3/lib/python3.6/distutils/command/build_ext.py\u001b[0m in \u001b[0;36mrun\u001b[0;34m(self)\u001b[0m\n\u001b[1;32m    337\u001b[0m \u001b[0;34m\u001b[0m\u001b[0m\n\u001b[1;32m    338\u001b[0m         \u001b[0;31m# Now actually compile and link everything.\u001b[0m\u001b[0;34m\u001b[0m\u001b[0;34m\u001b[0m\u001b[0m\n\u001b[0;32m--> 339\u001b[0;31m         \u001b[0mself\u001b[0m\u001b[0;34m.\u001b[0m\u001b[0mbuild_extensions\u001b[0m\u001b[0;34m(\u001b[0m\u001b[0;34m)\u001b[0m\u001b[0;34m\u001b[0m\u001b[0m\n\u001b[0m\u001b[1;32m    340\u001b[0m \u001b[0;34m\u001b[0m\u001b[0m\n\u001b[1;32m    341\u001b[0m     \u001b[0;32mdef\u001b[0m \u001b[0mcheck_extensions_list\u001b[0m\u001b[0;34m(\u001b[0m\u001b[0mself\u001b[0m\u001b[0;34m,\u001b[0m \u001b[0mextensions\u001b[0m\u001b[0;34m)\u001b[0m\u001b[0;34m:\u001b[0m\u001b[0;34m\u001b[0m\u001b[0m\n",
      "\u001b[0;32m~/anaconda3/lib/python3.6/distutils/command/build_ext.py\u001b[0m in \u001b[0;36mbuild_extensions\u001b[0;34m(self)\u001b[0m\n\u001b[1;32m    446\u001b[0m             \u001b[0mself\u001b[0m\u001b[0;34m.\u001b[0m\u001b[0m_build_extensions_parallel\u001b[0m\u001b[0;34m(\u001b[0m\u001b[0;34m)\u001b[0m\u001b[0;34m\u001b[0m\u001b[0m\n\u001b[1;32m    447\u001b[0m         \u001b[0;32melse\u001b[0m\u001b[0;34m:\u001b[0m\u001b[0;34m\u001b[0m\u001b[0m\n\u001b[0;32m--> 448\u001b[0;31m             \u001b[0mself\u001b[0m\u001b[0;34m.\u001b[0m\u001b[0m_build_extensions_serial\u001b[0m\u001b[0;34m(\u001b[0m\u001b[0;34m)\u001b[0m\u001b[0;34m\u001b[0m\u001b[0m\n\u001b[0m\u001b[1;32m    449\u001b[0m \u001b[0;34m\u001b[0m\u001b[0m\n\u001b[1;32m    450\u001b[0m     \u001b[0;32mdef\u001b[0m \u001b[0m_build_extensions_parallel\u001b[0m\u001b[0;34m(\u001b[0m\u001b[0mself\u001b[0m\u001b[0;34m)\u001b[0m\u001b[0;34m:\u001b[0m\u001b[0;34m\u001b[0m\u001b[0m\n",
      "\u001b[0;32m~/anaconda3/lib/python3.6/distutils/command/build_ext.py\u001b[0m in \u001b[0;36m_build_extensions_serial\u001b[0;34m(self)\u001b[0m\n\u001b[1;32m    471\u001b[0m         \u001b[0;32mfor\u001b[0m \u001b[0mext\u001b[0m \u001b[0;32min\u001b[0m \u001b[0mself\u001b[0m\u001b[0;34m.\u001b[0m\u001b[0mextensions\u001b[0m\u001b[0;34m:\u001b[0m\u001b[0;34m\u001b[0m\u001b[0m\n\u001b[1;32m    472\u001b[0m             \u001b[0;32mwith\u001b[0m \u001b[0mself\u001b[0m\u001b[0;34m.\u001b[0m\u001b[0m_filter_build_errors\u001b[0m\u001b[0;34m(\u001b[0m\u001b[0mext\u001b[0m\u001b[0;34m)\u001b[0m\u001b[0;34m:\u001b[0m\u001b[0;34m\u001b[0m\u001b[0m\n\u001b[0;32m--> 473\u001b[0;31m                 \u001b[0mself\u001b[0m\u001b[0;34m.\u001b[0m\u001b[0mbuild_extension\u001b[0m\u001b[0;34m(\u001b[0m\u001b[0mext\u001b[0m\u001b[0;34m)\u001b[0m\u001b[0;34m\u001b[0m\u001b[0m\n\u001b[0m\u001b[1;32m    474\u001b[0m \u001b[0;34m\u001b[0m\u001b[0m\n\u001b[1;32m    475\u001b[0m     \u001b[0;34m@\u001b[0m\u001b[0mcontextlib\u001b[0m\u001b[0;34m.\u001b[0m\u001b[0mcontextmanager\u001b[0m\u001b[0;34m\u001b[0m\u001b[0m\n",
      "\u001b[0;32m~/anaconda3/lib/python3.6/distutils/command/build_ext.py\u001b[0m in \u001b[0;36mbuild_extension\u001b[0;34m(self, ext)\u001b[0m\n\u001b[1;32m    531\u001b[0m                                          \u001b[0mdebug\u001b[0m\u001b[0;34m=\u001b[0m\u001b[0mself\u001b[0m\u001b[0;34m.\u001b[0m\u001b[0mdebug\u001b[0m\u001b[0;34m,\u001b[0m\u001b[0;34m\u001b[0m\u001b[0m\n\u001b[1;32m    532\u001b[0m                                          \u001b[0mextra_postargs\u001b[0m\u001b[0;34m=\u001b[0m\u001b[0mextra_args\u001b[0m\u001b[0;34m,\u001b[0m\u001b[0;34m\u001b[0m\u001b[0m\n\u001b[0;32m--> 533\u001b[0;31m                                          depends=ext.depends)\n\u001b[0m\u001b[1;32m    534\u001b[0m \u001b[0;34m\u001b[0m\u001b[0m\n\u001b[1;32m    535\u001b[0m         \u001b[0;31m# XXX outdated variable, kept here in case third-part code\u001b[0m\u001b[0;34m\u001b[0m\u001b[0;34m\u001b[0m\u001b[0m\n",
      "\u001b[0;32m~/anaconda3/lib/python3.6/distutils/ccompiler.py\u001b[0m in \u001b[0;36mcompile\u001b[0;34m(self, sources, output_dir, macros, include_dirs, debug, extra_preargs, extra_postargs, depends)\u001b[0m\n\u001b[1;32m    572\u001b[0m             \u001b[0;32mexcept\u001b[0m \u001b[0mKeyError\u001b[0m\u001b[0;34m:\u001b[0m\u001b[0;34m\u001b[0m\u001b[0m\n\u001b[1;32m    573\u001b[0m                 \u001b[0;32mcontinue\u001b[0m\u001b[0;34m\u001b[0m\u001b[0m\n\u001b[0;32m--> 574\u001b[0;31m             \u001b[0mself\u001b[0m\u001b[0;34m.\u001b[0m\u001b[0m_compile\u001b[0m\u001b[0;34m(\u001b[0m\u001b[0mobj\u001b[0m\u001b[0;34m,\u001b[0m \u001b[0msrc\u001b[0m\u001b[0;34m,\u001b[0m \u001b[0mext\u001b[0m\u001b[0;34m,\u001b[0m \u001b[0mcc_args\u001b[0m\u001b[0;34m,\u001b[0m \u001b[0mextra_postargs\u001b[0m\u001b[0;34m,\u001b[0m \u001b[0mpp_opts\u001b[0m\u001b[0;34m)\u001b[0m\u001b[0;34m\u001b[0m\u001b[0m\n\u001b[0m\u001b[1;32m    575\u001b[0m \u001b[0;34m\u001b[0m\u001b[0m\n\u001b[1;32m    576\u001b[0m         \u001b[0;31m# Return *all* object filenames, not just the ones we just built.\u001b[0m\u001b[0;34m\u001b[0m\u001b[0;34m\u001b[0m\u001b[0m\n",
      "\u001b[0;32m~/anaconda3/lib/python3.6/distutils/unixccompiler.py\u001b[0m in \u001b[0;36m_compile\u001b[0;34m(self, obj, src, ext, cc_args, extra_postargs, pp_opts)\u001b[0m\n\u001b[1;32m    118\u001b[0m                        extra_postargs)\n\u001b[1;32m    119\u001b[0m         \u001b[0;32mexcept\u001b[0m \u001b[0mDistutilsExecError\u001b[0m \u001b[0;32mas\u001b[0m \u001b[0mmsg\u001b[0m\u001b[0;34m:\u001b[0m\u001b[0;34m\u001b[0m\u001b[0m\n\u001b[0;32m--> 120\u001b[0;31m             \u001b[0;32mraise\u001b[0m \u001b[0mCompileError\u001b[0m\u001b[0;34m(\u001b[0m\u001b[0mmsg\u001b[0m\u001b[0;34m)\u001b[0m\u001b[0;34m\u001b[0m\u001b[0m\n\u001b[0m\u001b[1;32m    121\u001b[0m \u001b[0;34m\u001b[0m\u001b[0m\n\u001b[1;32m    122\u001b[0m     def create_static_lib(self, objects, output_libname,\n",
      "\u001b[0;31mCompileError\u001b[0m: command 'gcc' failed with exit status 1"
     ]
    }
   ],
   "source": [
    "%%cython \n",
    "\n",
    "cimport cython\n",
    "cimport numpy as c_np\n",
    "# from libc.math cimport round,sqrt\n",
    "# from cython.parallel import prange\n",
    "\n",
    "@cython.boundscheck(False)\n",
    "@cython.wraparound(False)\n",
    "def estimate_noise(float[:,:,:] img):\n",
    "    import numpy as np\n",
    "    cdef int h=img.shape[0]\n",
    "    cdef int w=img.shape[1]\n",
    "    cdef int a,b, k, l\n",
    "    cdef double[:,:] img_grey = np.empty((h,w), dtype=np.double)\n",
    "    cdef double[:,:] img_m = np.empty((h+4,w+4), dtype=np.double)\n",
    "#     cdef double[:] result = np.array([]) \n",
    "    cdef int[3][3] N= [[1, -2, 1],[-2, 4, -2],[1, -2, 1]]\n",
    "    cdef double[:, :, :, :] subM\n",
    "    cdef float s, sigma\n",
    "    \n",
    "    for a in range(h):\n",
    "        for b in range(w):\n",
    "            img_grey[a,b]=0.299*img[a,b,0]+0.587*img[a,b,1]+0.114*img[a,b,2]\n",
    "    img_m[2:-2, 2:-2] = img_grey\n",
    "    for i in range(1,h+3):\n",
    "        for j in range(1, w+3):\n",
    "            s = img_m[i-1,j-1]*1 + img_m[i-1,j]*-2 + img_m[i-1,j+1]*1 + img_m[i,j-1]*-2 + img_m[i,j]*4 + img_m[i,j+1]*-2 + img_m[i+1,j-1]*1 + img_m[i+1,j]*-2 + img_m[i+1,j+1]*1\n",
    "            sigma += abs(s)\n",
    "    return sigma\n",
    "#     return grey"
   ]
  },
  {
   "cell_type": "code",
   "execution_count": 5,
   "metadata": {},
   "outputs": [],
   "source": [
    "# def estimate_noise0(img):\n",
    "#     '''\n",
    "#     This function estimate the local variance of image \n",
    "#     '''\n",
    "#     img_grey = greyscale(img)\n",
    "#     h, w = img_grey.shape\n",
    "#     N = [[1, -2, 1],\n",
    "#         [-2, 4, -2],\n",
    "#         [1, -2, 1]]\n",
    "#     sigma = np.sum(np.absolute(convolve2d(img_grey, N)))\n",
    "#     sigma = sigma * np.sqrt(0.5 * np.pi) / (6 * (w-2) * (h-2))\n",
    "    \n",
    "#     return sigma"
   ]
  }
 ],
 "metadata": {
  "kernelspec": {
   "display_name": "Python 3",
   "language": "python",
   "name": "python3"
  },
  "language_info": {
   "codemirror_mode": {
    "name": "ipython",
    "version": 3
   },
   "file_extension": ".py",
   "mimetype": "text/x-python",
   "name": "python",
   "nbconvert_exporter": "python",
   "pygments_lexer": "ipython3",
   "version": "3.6.5"
  }
 },
 "nbformat": 4,
 "nbformat_minor": 2
}
